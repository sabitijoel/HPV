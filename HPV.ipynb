{
 "cells": [
  {
   "cell_type": "code",
   "execution_count": 261,
   "id": "104bcb56",
   "metadata": {},
   "outputs": [],
   "source": [
    "import seaborn as sns\n",
    "import numpy as np\n",
    "import pandas as pd\n",
    "import matplotlib\n",
    "import matplotlib.pyplot as plt\n",
    "from sklearn.preprocessing import StandardScaler, RobustScaler, MaxAbsScaler, MinMaxScaler\n",
    "\n",
    "import numpy as np\n",
    "import pandas as pd\n",
    "import sklearn as sk\n",
    "import matplotlib.pyplot as plt\n",
    "import matplotlib.patches as mpatches\n",
    "import seaborn as sns\n",
    "sns.set(style=\"whitegrid\")\n",
    "import random\n",
    "\n",
    "from sklearn.preprocessing import scale\n",
    "from sklearn.utils import shuffle\n",
    "\n",
    "from sklearn.model_selection import GridSearchCV\n",
    "from sklearn.metrics import mean_absolute_error, mean_squared_error, r2_score\n",
    "from pylab import rcParams\n",
    "rcParams['figure.figsize'] = 14, 8\n",
    "LABELS = [\"Normal\", \"Fraud\"]\n",
    "\n",
    "\n",
    "\n",
    "from sklearn.linear_model import LogisticRegression\n",
    "from sklearn.svm import SVC\n",
    "from sklearn.ensemble import RandomForestClassifier\n",
    "\n",
    "\n",
    "from sklearn.model_selection import train_test_split\n",
    "from sklearn.model_selection import StratifiedShuffleSplit\n",
    "from sklearn.pipeline import make_pipeline\n",
    "from imblearn.pipeline import make_pipeline as imbalanced_make_pipeline\n",
    "from imblearn.over_sampling import SMOTE\n",
    "from imblearn.under_sampling import NearMiss\n",
    "from imblearn.metrics import classification_report_imbalanced\n",
    "from sklearn.metrics import precision_score, recall_score, f1_score, roc_auc_score, accuracy_score, classification_report\n",
    "from collections import Counter\n",
    "from sklearn.model_selection import KFold, StratifiedKFold\n",
    "import warnings\n",
    "warnings.filterwarnings(\"ignore\")"
   ]
  },
  {
   "cell_type": "code",
   "execution_count": 262,
   "id": "37d76e02",
   "metadata": {},
   "outputs": [],
   "source": [
    "file_path = r'/Users/joelsabiti/Desktop/practicals/cereals/ainea.xlsx'\n",
    "\n",
    "df = pd.read_excel(file_path)"
   ]
  },
  {
   "cell_type": "code",
   "execution_count": 212,
   "id": "dbadead9-8a67-40cb-a78b-55d124532005",
   "metadata": {},
   "outputs": [
    {
     "data": {
      "text/plain": [
       "Residence                          1\n",
       "Bleeding_History                   1\n",
       "Circumcised_Partner                1\n",
       "Smoking                            1\n",
       "Multiple_Sex_Partners              1\n",
       "Age_At_First_Sexual_Intercourse    1\n",
       "Use_of_IUDs                        1\n",
       "History_Of_STIs                    1\n",
       "Family_History_Of_Ca               1\n",
       "Marital_Status                     1\n",
       "Bloody_Vaginal_Discharge           1\n",
       "STI_Status                         1\n",
       "HIV_Status                         1\n",
       "Education                          1\n",
       "Age                                1\n",
       "Occupation                         1\n",
       "HPV_STATUS                         1\n",
       "Name: count, dtype: int64"
      ]
     },
     "execution_count": 212,
     "metadata": {},
     "output_type": "execute_result"
    }
   ],
   "source": [
    "df.columns.value_counts()"
   ]
  },
  {
   "cell_type": "code",
   "execution_count": 213,
   "id": "925fa9b7-c684-40b3-a842-0b615baa74c7",
   "metadata": {},
   "outputs": [
    {
     "data": {
      "text/plain": [
       "Residence\n",
       "hima              65\n",
       "kidodo            60\n",
       "nyakasanga        49\n",
       "salut             38\n",
       "Town Center       33\n",
       "                  ..\n",
       "kizungu/delta      1\n",
       "katandoba          1\n",
       "katebwa            1\n",
       "kivengenya         1\n",
       "moya               1\n",
       "Name: count, Length: 207, dtype: int64"
      ]
     },
     "execution_count": 213,
     "metadata": {},
     "output_type": "execute_result"
    }
   ],
   "source": [
    "df.Residence.value_counts()"
   ]
  },
  {
   "cell_type": "code",
   "execution_count": 214,
   "id": "6e9b7a8f",
   "metadata": {},
   "outputs": [],
   "source": [
    "df=df.drop('Residence',axis=1)"
   ]
  },
  {
   "cell_type": "code",
   "execution_count": 215,
   "id": "b2172de9",
   "metadata": {},
   "outputs": [],
   "source": [
    "status={\n",
    "    'single ': 'single',\n",
    "    'sinle ': 'single',\n",
    "    'married ':'married', \n",
    "    'marrid ':'married',\n",
    "    'maried ':'married', \n",
    "    'maried  ':'married',\n",
    "    'marrried ':'married',\n",
    "    'mmaried ':'married',\n",
    "    'sperated ':'divorced',\n",
    "    'seperated ':'divorced',\n",
    "    'divorced ':'divorced',\n",
    "    'divoced ' :'divorced', \n",
    "    'divocred ':'divorced', \n",
    "    'dovorced':'divorced',\n",
    "    'window ':'widowed',\n",
    "    'widow ':'widowed',\n",
    "    'window':'widowed',\n",
    "    \n",
    "}"
   ]
  },
  {
   "cell_type": "code",
   "execution_count": 216,
   "id": "bb40cbbd",
   "metadata": {},
   "outputs": [],
   "source": [
    "df['Marital_Status']=df['Marital_Status'].replace(status)"
   ]
  },
  {
   "cell_type": "code",
   "execution_count": 217,
   "id": "19015940",
   "metadata": {},
   "outputs": [
    {
     "data": {
      "text/plain": [
       "Marital_Status\n",
       "married     543\n",
       "single      363\n",
       "divorced     16\n",
       "widowed       7\n",
       "Name: count, dtype: int64"
      ]
     },
     "execution_count": 217,
     "metadata": {},
     "output_type": "execute_result"
    }
   ],
   "source": [
    "df['Marital_Status'].value_counts()"
   ]
  },
  {
   "cell_type": "code",
   "execution_count": 218,
   "id": "3f7ec9da",
   "metadata": {
    "scrolled": true
   },
   "outputs": [
    {
     "data": {
      "text/plain": [
       "Marital_Status\n",
       "2    543\n",
       "1    386\n",
       "Name: count, dtype: int64"
      ]
     },
     "execution_count": 218,
     "metadata": {},
     "output_type": "execute_result"
    }
   ],
   "source": [
    "marital_map = {\n",
    "    'single':1,\n",
    "    'married':2,\n",
    "    'widowed':1,\n",
    "    'divorced':1,\n",
    "}\n",
    "df['Marital_Status']=df['Marital_Status'].map(marital_map)\n",
    "df['Marital_Status'].value_counts()"
   ]
  },
  {
   "cell_type": "code",
   "execution_count": 219,
   "id": "601d1dfe",
   "metadata": {
    "scrolled": true
   },
   "outputs": [
    {
     "data": {
      "text/plain": [
       "array(['None ', 'Employed ', nan], dtype=object)"
      ]
     },
     "execution_count": 219,
     "metadata": {},
     "output_type": "execute_result"
    }
   ],
   "source": [
    "df['Occupation'].unique()"
   ]
  },
  {
   "cell_type": "code",
   "execution_count": 220,
   "id": "18a009ea",
   "metadata": {},
   "outputs": [],
   "source": [
    "occupation_status={\n",
    "    'Employed ':'Employed',\n",
    "    'None':'Unemployed',\n",
    "    'None ':'Unemployed',\n",
    "}\n",
    "df['Occupation']=df['Occupation'].replace(occupation_status)"
   ]
  },
  {
   "cell_type": "code",
   "execution_count": 221,
   "id": "06a14eed",
   "metadata": {},
   "outputs": [
    {
     "data": {
      "text/plain": [
       "array([ 0.,  1., nan])"
      ]
     },
     "execution_count": 221,
     "metadata": {},
     "output_type": "execute_result"
    }
   ],
   "source": [
    "occupation_map = {\n",
    "    'Employed':1,\n",
    "    'Unemployed':0,\n",
    "}\n",
    "df['Occupation']=df['Occupation'].map(occupation_map)"
   ]
  },
  {
   "cell_type": "code",
   "execution_count": 222,
   "id": "50617346",
   "metadata": {},
   "outputs": [
    {
     "data": {
      "text/plain": [
       "Occupation\n",
       "0.0    670\n",
       "1.0    203\n",
       "Name: count, dtype: int64"
      ]
     },
     "execution_count": 222,
     "metadata": {},
     "output_type": "execute_result"
    }
   ],
   "source": [
    "df['Occupation'].value_counts()"
   ]
  },
  {
   "cell_type": "code",
   "execution_count": 223,
   "id": "17650a9c",
   "metadata": {},
   "outputs": [],
   "source": [
    "df.drop('Education', axis=1, inplace=True)"
   ]
  },
  {
   "cell_type": "code",
   "execution_count": 224,
   "id": "06ce340c",
   "metadata": {},
   "outputs": [
    {
     "data": {
      "text/plain": [
       "HIV_Status\n",
       "POS    627\n",
       "NEG    283\n",
       "ND      19\n",
       "Name: count, dtype: int64"
      ]
     },
     "execution_count": 224,
     "metadata": {},
     "output_type": "execute_result"
    }
   ],
   "source": [
    "df['HIV_Status'].value_counts()"
   ]
  },
  {
   "cell_type": "code",
   "execution_count": 225,
   "id": "08c4b391",
   "metadata": {},
   "outputs": [
    {
     "data": {
      "text/plain": [
       "array([1, 2])"
      ]
     },
     "execution_count": 225,
     "metadata": {},
     "output_type": "execute_result"
    }
   ],
   "source": [
    "hiv_map = {\n",
    "   'NEG':1,\n",
    "    'POS':2,\n",
    "    'ND':1,\n",
    "}\n",
    "\n",
    "df['HIV_Status']=df['HIV_Status'].map(hiv_map)\n",
    "df['HIV_Status'].unique()"
   ]
  },
  {
   "cell_type": "code",
   "execution_count": 226,
   "id": "5e28a10a",
   "metadata": {},
   "outputs": [
    {
     "data": {
      "text/plain": [
       "array(['No', 'yes ', 'Yes '], dtype=object)"
      ]
     },
     "execution_count": 226,
     "metadata": {},
     "output_type": "execute_result"
    }
   ],
   "source": [
    "df['Bloody_Vaginal_Discharge'].unique()"
   ]
  },
  {
   "cell_type": "code",
   "execution_count": 227,
   "id": "1b94df36",
   "metadata": {},
   "outputs": [],
   "source": [
    "discharge_map = {\n",
    "    'No':0,\n",
    "    'yes ':1,\n",
    "    'Yes ':1,\n",
    "}\n",
    "\n",
    "df['Bloody_Vaginal_Discharge']=df['Bloody_Vaginal_Discharge'].map(discharge_map)"
   ]
  },
  {
   "cell_type": "code",
   "execution_count": 228,
   "id": "ea1deaf7",
   "metadata": {},
   "outputs": [
    {
     "data": {
      "text/plain": [
       "array([0, 1])"
      ]
     },
     "execution_count": 228,
     "metadata": {},
     "output_type": "execute_result"
    }
   ],
   "source": [
    "df['Bloody_Vaginal_Discharge'].unique()"
   ]
  },
  {
   "cell_type": "code",
   "execution_count": 229,
   "id": "38605086",
   "metadata": {},
   "outputs": [
    {
     "data": {
      "text/plain": [
       "array(['no ', 'no', 'yes', 'No', 'YES', 'NO', 'yes ', 'NO ', 'Yes', 'np',\n",
       "       'n o', 'YES '], dtype=object)"
      ]
     },
     "execution_count": 229,
     "metadata": {},
     "output_type": "execute_result"
    }
   ],
   "source": [
    "df['STI_Status'].unique()"
   ]
  },
  {
   "cell_type": "code",
   "execution_count": 230,
   "id": "bd640c15",
   "metadata": {},
   "outputs": [],
   "source": [
    "STI_STATUS={\n",
    "    'No':0,\n",
    "    'no':0,\n",
    "    'n o':0,\n",
    "    'NO ':0,\n",
    "    'YES':1,\n",
    "    'no ':0,\n",
    "    'NO':0,\n",
    "    'Yes':1,\n",
    "    'np':0,\n",
    "    'yes':1,\n",
    "    'yes ':1,\n",
    "    'YES ':1,   \n",
    "}"
   ]
  },
  {
   "cell_type": "code",
   "execution_count": 231,
   "id": "18564116",
   "metadata": {},
   "outputs": [],
   "source": [
    "df['STI_Status']=df['STI_Status'].map(STI_STATUS)"
   ]
  },
  {
   "cell_type": "code",
   "execution_count": 232,
   "id": "f903051c",
   "metadata": {},
   "outputs": [
    {
     "data": {
      "text/plain": [
       "STI_Status\n",
       "0    764\n",
       "1    165\n",
       "Name: count, dtype: int64"
      ]
     },
     "execution_count": 232,
     "metadata": {},
     "output_type": "execute_result"
    }
   ],
   "source": [
    "df['STI_Status'].value_counts()"
   ]
  },
  {
   "cell_type": "code",
   "execution_count": 233,
   "id": "3ee8a8ea",
   "metadata": {},
   "outputs": [
    {
     "data": {
      "text/plain": [
       "array(['NO', 'yes', 'YES', 'ND', 'NO ', 'Yes'], dtype=object)"
      ]
     },
     "execution_count": 233,
     "metadata": {},
     "output_type": "execute_result"
    }
   ],
   "source": [
    "df['Family_History_Of_Ca'].unique()"
   ]
  },
  {
   "cell_type": "code",
   "execution_count": 234,
   "id": "4d866173",
   "metadata": {},
   "outputs": [],
   "source": [
    "history ={\n",
    "   'yes':1,\n",
    "    'NO':0,\n",
    "    'NO ':0,\n",
    "    'Yes':1,\n",
    "    'YES':1,\n",
    "    'ND':0,\n",
    "}"
   ]
  },
  {
   "cell_type": "code",
   "execution_count": 235,
   "id": "d5d7a267",
   "metadata": {},
   "outputs": [
    {
     "data": {
      "text/plain": [
       "Family_History_Of_Ca\n",
       "NO     699\n",
       "YES    190\n",
       "yes     34\n",
       "ND       2\n",
       "NO       2\n",
       "Yes      2\n",
       "Name: count, dtype: int64"
      ]
     },
     "execution_count": 235,
     "metadata": {},
     "output_type": "execute_result"
    }
   ],
   "source": [
    "df['Family_History_Of_Ca'].value_counts()\n"
   ]
  },
  {
   "cell_type": "code",
   "execution_count": 236,
   "id": "532e9d62",
   "metadata": {},
   "outputs": [],
   "source": [
    "df['Family_History_Of_Ca']=df['Family_History_Of_Ca'].map(history)"
   ]
  },
  {
   "cell_type": "code",
   "execution_count": 237,
   "id": "08c3e0a7",
   "metadata": {},
   "outputs": [
    {
     "data": {
      "text/plain": [
       "Family_History_Of_Ca\n",
       "0    703\n",
       "1    226\n",
       "Name: count, dtype: int64"
      ]
     },
     "execution_count": 237,
     "metadata": {},
     "output_type": "execute_result"
    }
   ],
   "source": [
    "df['Family_History_Of_Ca'].value_counts()"
   ]
  },
  {
   "cell_type": "code",
   "execution_count": 239,
   "id": "9726431f",
   "metadata": {},
   "outputs": [
    {
     "data": {
      "text/plain": [
       "Bleeding_History\n",
       "No      736\n",
       "yes     192\n",
       "Yes       1\n",
       "Name: count, dtype: int64"
      ]
     },
     "execution_count": 239,
     "metadata": {},
     "output_type": "execute_result"
    }
   ],
   "source": [
    "df['Bleeding_History'].value_counts()"
   ]
  },
  {
   "cell_type": "code",
   "execution_count": 240,
   "id": "407d9349",
   "metadata": {},
   "outputs": [
    {
     "data": {
      "text/plain": [
       "Bleeding_History\n",
       "0    736\n",
       "1    193\n",
       "Name: count, dtype: int64"
      ]
     },
     "execution_count": 240,
     "metadata": {},
     "output_type": "execute_result"
    }
   ],
   "source": [
    "history2={\n",
    "    'No':0,\n",
    "    'yes ':1,\n",
    "    'Yes ':1,\n",
    "}\n",
    "df['Bleeding_History']=df['Bleeding_History'].map(history2)\n",
    "df['Bleeding_History'].value_counts()"
   ]
  },
  {
   "cell_type": "code",
   "execution_count": 242,
   "id": "3b3bccd1",
   "metadata": {},
   "outputs": [
    {
     "data": {
      "text/plain": [
       "History_Of_STIs\n",
       "no      358\n",
       "No      326\n",
       "yes     161\n",
       "Yes      68\n",
       "NO       12\n",
       " No       2\n",
       "YES       2\n",
       "Name: count, dtype: int64"
      ]
     },
     "execution_count": 242,
     "metadata": {},
     "output_type": "execute_result"
    }
   ],
   "source": [
    "df['History_Of_STIs'].value_counts()"
   ]
  },
  {
   "cell_type": "code",
   "execution_count": 244,
   "id": "dfe54e64",
   "metadata": {},
   "outputs": [
    {
     "data": {
      "text/plain": [
       "Series([], Name: count, dtype: int64)"
      ]
     },
     "execution_count": 244,
     "metadata": {},
     "output_type": "execute_result"
    }
   ],
   "source": [
    "history3={\n",
    "    'Yes ':1,\n",
    "    ' No ':0,\n",
    "    'no ':0,\n",
    "    'NO ':0,\n",
    "    'yes ':1,\n",
    "    'YES ':1,\n",
    "    'No':0,\n",
    "}\n",
    "df['History_Of_STIs']=df['History_Of_STIs'].map(history3)\n",
    "df['History_Of_STIs'].value_counts()"
   ]
  },
  {
   "cell_type": "code",
   "execution_count": 245,
   "id": "b991e1f7",
   "metadata": {},
   "outputs": [
    {
     "data": {
      "text/plain": [
       "Use_of_IUDs\n",
       "no      558\n",
       "yes     221\n",
       "no       81\n",
       "yes      42\n",
       "NO        9\n",
       "NO        7\n",
       "YES       4\n",
       "No        2\n",
       "YES       2\n",
       "n         2\n",
       "np        1\n",
       "Name: count, dtype: int64"
      ]
     },
     "execution_count": 245,
     "metadata": {},
     "output_type": "execute_result"
    }
   ],
   "source": [
    "df['Use_of_IUDs'].value_counts()"
   ]
  },
  {
   "cell_type": "code",
   "execution_count": 246,
   "id": "86a523ad",
   "metadata": {},
   "outputs": [
    {
     "data": {
      "text/plain": [
       "array([0, 1])"
      ]
     },
     "execution_count": 246,
     "metadata": {},
     "output_type": "execute_result"
    }
   ],
   "source": [
    "history4={\n",
    "    'yes':1,\n",
    "    'No':0,\n",
    "    'no ':0,\n",
    "    'no':0,\n",
    "    'NO':0,\n",
    "    'YES':0,\n",
    "    'NO ':0,\n",
    "    'n':0,\n",
    "    'yes ':1,\n",
    "    'YES ':1,\n",
    "    'np':0,\n",
    "}\n",
    "df['Use_of_IUDs']=df['Use_of_IUDs'].map(history4)\n",
    "df['Use_of_IUDs'].unique()"
   ]
  },
  {
   "cell_type": "code",
   "execution_count": 247,
   "id": "9dd35c1a",
   "metadata": {},
   "outputs": [
    {
     "data": {
      "text/plain": [
       "array([ 24,  22,  16,  18,  17,  15,  19,  21, 117,  20,  14,  23,  13,\n",
       "        26])"
      ]
     },
     "execution_count": 247,
     "metadata": {},
     "output_type": "execute_result"
    }
   ],
   "source": [
    "df['Age_At_First_Sexual_Intercourse'].unique()"
   ]
  },
  {
   "cell_type": "code",
   "execution_count": 248,
   "id": "17c3842d",
   "metadata": {},
   "outputs": [],
   "source": [
    "age = {\n",
    "       117:17\n",
    "}\n",
    "df['Age_At_First_Sexual_Intercourse']=df['Age_At_First_Sexual_Intercourse'].replace(age)"
   ]
  },
  {
   "cell_type": "code",
   "execution_count": 249,
   "id": "54a76110",
   "metadata": {},
   "outputs": [
    {
     "data": {
      "text/plain": [
       "array([24, 22, 16, 18, 17, 15, 19, 21, 20, 14, 23, 13, 26])"
      ]
     },
     "execution_count": 249,
     "metadata": {},
     "output_type": "execute_result"
    }
   ],
   "source": [
    "df['Age_At_First_Sexual_Intercourse'].unique()"
   ]
  },
  {
   "cell_type": "code",
   "execution_count": 250,
   "id": "f332d3ff",
   "metadata": {},
   "outputs": [
    {
     "data": {
      "text/plain": [
       "array(['NEG', 'NR', 'POS', 'NEG ', 'ND ', 'pos', 'ND', 'POS '],\n",
       "      dtype=object)"
      ]
     },
     "execution_count": 250,
     "metadata": {},
     "output_type": "execute_result"
    }
   ],
   "source": [
    "df['HPV_STATUS'].unique()"
   ]
  },
  {
   "cell_type": "code",
   "execution_count": 251,
   "id": "ece1f5e9",
   "metadata": {},
   "outputs": [
    {
     "data": {
      "text/plain": [
       "array([0, 1])"
      ]
     },
     "execution_count": 251,
     "metadata": {},
     "output_type": "execute_result"
    }
   ],
   "source": [
    "cancer={\n",
    "   'NEG':0,\n",
    "    'NR':1,\n",
    "    'ND':1,\n",
    "    'ND ':1,\n",
    "    'POS':1,\n",
    "    'NEG ':0,\n",
    "    'pos':1,\n",
    "    'POS ':1,\n",
    "}\n",
    "df['HPV_STATUS']=df['HPV_STATUS'].replace(cancer)\n",
    "df['HPV_STATUS'].unique()"
   ]
  },
  {
   "cell_type": "code",
   "execution_count": 252,
   "id": "b6d07436",
   "metadata": {},
   "outputs": [
    {
     "name": "stdout",
     "output_type": "stream",
     "text": [
      "HPV_STATUS\n",
      "0    840\n",
      "1     89\n",
      "Name: count, dtype: int64\n"
     ]
    }
   ],
   "source": [
    "count=df['HPV_STATUS'].value_counts()\n",
    "print(count)"
   ]
  },
  {
   "cell_type": "code",
   "execution_count": 253,
   "id": "e37b5a62",
   "metadata": {},
   "outputs": [
    {
     "name": "stdout",
     "output_type": "stream",
     "text": [
      "Circumcised_Partner\n",
      "Yes    850\n",
      "NO      79\n",
      "Name: count, dtype: int64\n"
     ]
    }
   ],
   "source": [
    "count=df['Circumcised_Partner'].value_counts()\n",
    "print(count)"
   ]
  },
  {
   "cell_type": "code",
   "execution_count": 254,
   "id": "6b350059",
   "metadata": {},
   "outputs": [
    {
     "data": {
      "text/plain": [
       "array([1, 0])"
      ]
     },
     "execution_count": 254,
     "metadata": {},
     "output_type": "execute_result"
    }
   ],
   "source": [
    "circumcised = {\n",
    "    'Yes':1,\n",
    "    'NO':0,    \n",
    "}\n",
    "df['Circumcised_Partner']=df['Circumcised_Partner'].map(circumcised)\n",
    "df['Circumcised_Partner'].unique()"
   ]
  },
  {
   "cell_type": "code",
   "execution_count": 255,
   "id": "2075ecb1",
   "metadata": {},
   "outputs": [
    {
     "name": "stdout",
     "output_type": "stream",
     "text": [
      "Smoking\n",
      "Smokes    85\n",
      "Name: count, dtype: int64\n"
     ]
    }
   ],
   "source": [
    "count=df['Smoking'].value_counts()\n",
    "print(count)"
   ]
  },
  {
   "cell_type": "code",
   "execution_count": 256,
   "id": "00087bbd",
   "metadata": {},
   "outputs": [
    {
     "data": {
      "text/plain": [
       "array([nan,  1.])"
      ]
     },
     "execution_count": 256,
     "metadata": {},
     "output_type": "execute_result"
    }
   ],
   "source": [
    "smoking = {\n",
    "    'None':0,\n",
    "    'Smokes':1,    \n",
    "}\n",
    "df['Smoking']=df['Smoking'].map(smoking)\n",
    "df['Smoking'].unique()"
   ]
  },
  {
   "cell_type": "code",
   "execution_count": 257,
   "id": "5de4405b",
   "metadata": {},
   "outputs": [
    {
     "data": {
      "text/plain": [
       "Smoking\n",
       "1.0    85\n",
       "Name: count, dtype: int64"
      ]
     },
     "execution_count": 257,
     "metadata": {},
     "output_type": "execute_result"
    }
   ],
   "source": [
    "df['Smoking'].value_counts()"
   ]
  },
  {
   "cell_type": "code",
   "execution_count": 47,
   "id": "ab354b34",
   "metadata": {},
   "outputs": [
    {
     "name": "stdout",
     "output_type": "stream",
     "text": [
      "Multiple_Sex_Partners\n",
      "NO     698\n",
      "YES    225\n",
      "Name: count, dtype: int64\n"
     ]
    }
   ],
   "source": [
    " count=df['Multiple_Sex_Partners'].value_counts()\n",
    "print(count) "
   ]
  },
  {
   "cell_type": "code",
   "execution_count": 48,
   "id": "072ec945",
   "metadata": {},
   "outputs": [
    {
     "data": {
      "text/plain": [
       "array([0, 1])"
      ]
     },
     "execution_count": 48,
     "metadata": {},
     "output_type": "execute_result"
    }
   ],
   "source": [
    "partners = {\n",
    "    'NO':0,\n",
    "    'YES':1,    \n",
    "}\n",
    "df['Multiple_Sex_Partners']=df['Multiple_Sex_Partners'].map(partners)\n",
    "df['Multiple_Sex_Partners'].unique()"
   ]
  },
  {
   "cell_type": "code",
   "execution_count": 49,
   "id": "faa9c8f6",
   "metadata": {},
   "outputs": [
    {
     "data": {
      "text/plain": [
       "array([0, 1])"
      ]
     },
     "execution_count": 49,
     "metadata": {},
     "output_type": "execute_result"
    }
   ],
   "source": [
    "df['Bloody_Vaginal_Discharge'].unique()"
   ]
  },
  {
   "cell_type": "code",
   "execution_count": 50,
   "id": "f6c17599",
   "metadata": {},
   "outputs": [
    {
     "name": "stdout",
     "output_type": "stream",
     "text": [
      "Shapiro-Wilk Test:\n",
      "Statistic: 0.9820540547370911\n",
      "p-value: 3.141987336974239e-09\n",
      "Is the data normally distributed (p-value < alpha)? False\n",
      "\n",
      "D'Agostino and Pearson's Test:\n",
      "Statistic: 17.96269832383553\n",
      "p-value: 0.00012573309870953406\n",
      "Is the data normally distributed (p-value < alpha)? False\n"
     ]
    },
    {
     "data": {
      "image/png": "[encoded data removed]",
      "text/plain": [
       "<Figure size 1400x800 with 1 Axes>"
      ]
     },
     "metadata": {},
     "output_type": "display_data"
    }
   ],
   "source": [
    "import numpy as np\n",
    "from scipy import stats\n",
    "import statsmodels.api as sm\n",
    "import matplotlib.pyplot as plt\n",
    "\n",
    "statistic, p_value = stats.shapiro(df['Age'])\n",
    "alpha = 0.05\n",
    "print(\"Shapiro-Wilk Test:\")\n",
    "print(\"Statistic:\", statistic)\n",
    "print(\"p-value:\", p_value)\n",
    "print(\"Is the data normally distributed (p-value < alpha)?\", p_value > alpha)\n",
    "\n",
    "\n",
    "k2, p_value = stats.normaltest(df['Age'])\n",
    "print(\"\\nD'Agostino and Pearson's Test:\")\n",
    "print(\"Statistic:\", k2)\n",
    "print(\"p-value:\", p_value)\n",
    "print(\"Is the data normally distributed (p-value < alpha)?\", p_value > alpha)\n",
    "\n",
    "sm.qqplot(df['Age'], line='s')\n",
    "plt.title(\"Q-Q Plot\")\n",
    "plt.show()\n"
   ]
  },
  {
   "cell_type": "code",
   "execution_count": 51,
   "id": "46489be5",
   "metadata": {},
   "outputs": [
    {
     "name": "stdout",
     "output_type": "stream",
     "text": [
      "Mann-Whitney U Test:\n",
      "Statistic: 851929.0\n",
      "p-value: 0.0\n",
      "Are the distributions significantly different (p-value < alpha)? True\n"
     ]
    }
   ],
   "source": [
    "from scipy.stats import mannwhitneyu\n",
    "statistic, p_value = mannwhitneyu(df['Age'], df['HPV_STATUS'], alternative='two-sided')\n",
    "alpha = 0.05\n",
    "print(\"Mann-Whitney U Test:\")\n",
    "print(\"Statistic:\", statistic)\n",
    "print(\"p-value:\", p_value)\n",
    "print(\"Are the distributions significantly different (p-value < alpha)?\", p_value < alpha)"
   ]
  },
  {
   "cell_type": "markdown",
   "id": "eb5c12f1",
   "metadata": {},
   "source": [
    "Meaning the data is not normaly distributed and that age is statistically significant to HPV"
   ]
  },
  {
   "cell_type": "code",
   "execution_count": 52,
   "id": "a2036dd4",
   "metadata": {},
   "outputs": [
    {
     "name": "stdout",
     "output_type": "stream",
     "text": [
      "Shapiro-Wilk Test:\n",
      "Statistic: 0.951757550239563\n",
      "p-value: 7.929718634891827e-17\n",
      "Is the data normally distributed (p-value < alpha)? False\n",
      "\n",
      "D'Agostino and Pearson's Test:\n",
      "Statistic: 50.5004598820929\n",
      "p-value: 1.0813454814278793e-11\n",
      "Is the data normally distributed (p-value < alpha)? False\n"
     ]
    },
    {
     "data": {
      "image/png": "[encoded data removed]",
      "text/plain": [
       "<Figure size 1400x800 with 1 Axes>"
      ]
     },
     "metadata": {},
     "output_type": "display_data"
    }
   ],
   "source": [
    "statistic, p_value = stats.shapiro(df['Age_At_First_Sexual_Intercourse'])\n",
    "alpha = 0.05\n",
    "print(\"Shapiro-Wilk Test:\")\n",
    "print(\"Statistic:\", statistic)\n",
    "print(\"p-value:\", p_value)\n",
    "print(\"Is the data normally distributed (p-value < alpha)?\", p_value > alpha)\n",
    "\n",
    "\n",
    "k2, p_value = stats.normaltest(df['Age_At_First_Sexual_Intercourse'])\n",
    "print(\"\\nD'Agostino and Pearson's Test:\")\n",
    "print(\"Statistic:\", k2)\n",
    "print(\"p-value:\", p_value)\n",
    "print(\"Is the data normally distributed (p-value < alpha)?\", p_value > alpha)\n",
    "\n",
    "sm.qqplot(df['Age'], line='s')\n",
    "plt.title(\"Q-Q Plot\")\n",
    "plt.show()\n"
   ]
  },
  {
   "cell_type": "code",
   "execution_count": 53,
   "id": "7bc8a4d8",
   "metadata": {},
   "outputs": [
    {
     "name": "stdout",
     "output_type": "stream",
     "text": [
      "Mann-Whitney U Test:\n",
      "Statistic: 851929.0\n",
      "p-value: 0.0\n",
      "Are the distributions significantly different (p-value < alpha)? True\n"
     ]
    }
   ],
   "source": [
    "from scipy.stats import mannwhitneyu\n",
    "statistic, p_value = mannwhitneyu(df['Age_At_First_Sexual_Intercourse'], df['HPV_STATUS'], alternative='two-sided')\n",
    "alpha = 0.05\n",
    "print(\"Mann-Whitney U Test:\")\n",
    "print(\"Statistic:\", statistic)\n",
    "print(\"p-value:\", p_value)\n",
    "print(\"Are the distributions significantly different (p-value < alpha)?\", p_value < alpha)"
   ]
  },
  {
   "cell_type": "markdown",
   "id": "b4579e57",
   "metadata": {},
   "source": [
    "Age_At_First_Sexual_Intercourse is statistically significant and has an effect on HPV"
   ]
  },
  {
   "cell_type": "code",
   "execution_count": 54,
   "id": "0387ae1f",
   "metadata": {},
   "outputs": [
    {
     "data": {
      "image/png": "[encoded data removed]",
      "text/plain": [
       "<Figure size 1400x800 with 1 Axes>"
      ]
     },
     "metadata": {},
     "output_type": "display_data"
    }
   ],
   "source": [
    "import matplotlib.pyplot as plt\n",
    "\n",
    "counts = df['Marital_Status'].value_counts()\n",
    "grouped_counts = df.groupby('HPV_STATUS')['Marital_Status'].value_counts()\n",
    "\n",
    "\n",
    "grouped_counts = grouped_counts.reindex(pd.MultiIndex.from_product([df['HPV_STATUS'].unique(), df['Marital_Status'].unique()]))\n",
    "\n",
    "grouped_counts = grouped_counts.unstack()\n",
    "\n",
    "\n",
    "grouped_counts.plot(kind='bar')\n",
    "plt.xlabel('HPV_STATUS')\n",
    "plt.ylabel('Counts')\n",
    "plt.title('Grouped Bar Graph of Marital Status by HPV_STATUS')\n",
    "plt.legend(title='Marital Status')\n",
    "\n",
    "\n",
    "plt.show()"
   ]
  },
  {
   "cell_type": "code",
   "execution_count": 55,
   "id": "e6405135",
   "metadata": {},
   "outputs": [
    {
     "data": {
      "image/png": "[encoded data removed]",
      "text/plain": [
       "<Figure size 1400x800 with 1 Axes>"
      ]
     },
     "metadata": {},
     "output_type": "display_data"
    }
   ],
   "source": [
    "counts = df['Occupation'].value_counts()\n",
    "grouped_counts = df.groupby('HPV_STATUS')['Occupation'].value_counts()\n",
    "\n",
    "\n",
    "grouped_counts = grouped_counts.reindex(pd.MultiIndex.from_product([df['HPV_STATUS'].unique(), df['Occupation'].unique()]))\n",
    "grouped_counts = grouped_counts.unstack()\n",
    "\n",
    "grouped_counts.plot(kind='bar')\n",
    "plt.xlabel('Occupation')\n",
    "plt.ylabel('Counts')\n",
    "plt.title('Grouped Bar Graph of Occupation by HPV_STATUS')\n",
    "plt.legend(title='Occupation')\n",
    "\n",
    "plt.show()"
   ]
  },
  {
   "cell_type": "code",
   "execution_count": 56,
   "id": "a0a40a16",
   "metadata": {},
   "outputs": [
    {
     "data": {
      "image/png": "[encoded data removed]",
      "text/plain": [
       "<Figure size 1400x800 with 1 Axes>"
      ]
     },
     "metadata": {},
     "output_type": "display_data"
    }
   ],
   "source": [
    "counts = df['HIV_Status'].value_counts()\n",
    "grouped_counts = df.groupby('HPV_STATUS')['HIV_Status'].value_counts()\n",
    "\n",
    "\n",
    "grouped_counts = grouped_counts.reindex(pd.MultiIndex.from_product([df['HPV_STATUS'].unique(), df['HIV_Status'].unique()]))\n",
    "grouped_counts = grouped_counts.unstack()\n",
    "\n",
    "grouped_counts.plot(kind='bar')\n",
    "plt.xlabel('Occupation')\n",
    "plt.ylabel('Counts')\n",
    "plt.title('Grouped Bar Graph of HIV_Status by HPV_STATUS')\n",
    "plt.legend(title='HIV_Status')\n",
    "\n",
    "plt.show()"
   ]
  },
  {
   "cell_type": "code",
   "execution_count": 57,
   "id": "a4c8dbac",
   "metadata": {},
   "outputs": [],
   "source": [
    "df = df.drop(df[df['HIV_Status'] ==3].index)"
   ]
  },
  {
   "cell_type": "markdown",
   "id": "d13b9636",
   "metadata": {},
   "source": [
    "drop HIV = 3 that is NA"
   ]
  },
  {
   "cell_type": "code",
   "execution_count": 58,
   "id": "97468734",
   "metadata": {},
   "outputs": [
    {
     "data": {
      "image/png": "[encoded data removed]",
      "text/plain": [
       "<Figure size 1400x800 with 1 Axes>"
      ]
     },
     "metadata": {},
     "output_type": "display_data"
    }
   ],
   "source": [
    "counts = df['STI_Status'].value_counts()\n",
    "grouped_counts = df.groupby('HPV_STATUS')['STI_Status'].value_counts()\n",
    "\n",
    "\n",
    "grouped_counts = grouped_counts.reindex(pd.MultiIndex.from_product([df['HPV_STATUS'].unique(), df['STI_Status'].unique()]))\n",
    "grouped_counts = grouped_counts.unstack()\n",
    "\n",
    "grouped_counts.plot(kind='bar')\n",
    "plt.xlabel('Occupation')\n",
    "plt.ylabel('Counts')\n",
    "plt.title('Grouped Bar Graph of STI_Status by HPV_STATUS')\n",
    "plt.legend(title='STI_Status')\n",
    "\n",
    "# Show the graph\n",
    "plt.show()"
   ]
  },
  {
   "cell_type": "code",
   "execution_count": 59,
   "id": "d3719439",
   "metadata": {},
   "outputs": [
    {
     "data": {
      "image/png": "[encoded data removed]",
      "text/plain": [
       "<Figure size 1400x800 with 1 Axes>"
      ]
     },
     "metadata": {},
     "output_type": "display_data"
    }
   ],
   "source": [
    "counts = df['STI_Status'].value_counts()\n",
    "grouped_counts = df.groupby('HPV_STATUS')['Bloody_Vaginal_Discharge'].value_counts()\n",
    "\n",
    "\n",
    "grouped_counts = grouped_counts.reindex(pd.MultiIndex.from_product([df['HPV_STATUS'].unique(), df['Bloody_Vaginal_Discharge'].unique()]))\n",
    "grouped_counts = grouped_counts.unstack()\n",
    "\n",
    "grouped_counts.plot(kind='bar')\n",
    "plt.xlabel('Occupation')\n",
    "plt.ylabel('Counts')\n",
    "plt.title('Grouped Bar Graph of Bloody_Vaginal_Discharge by HPV_STATUS')\n",
    "plt.legend(title='Bloody_Vaginal_Discharge')\n",
    "\n",
    "\n",
    "plt.show()"
   ]
  },
  {
   "cell_type": "code",
   "execution_count": 60,
   "id": "326fdcda",
   "metadata": {},
   "outputs": [
    {
     "data": {
      "image/png": "[encoded data removed]",
      "text/plain": [
       "<Figure size 1400x800 with 1 Axes>"
      ]
     },
     "metadata": {},
     "output_type": "display_data"
    }
   ],
   "source": [
    "counts = df['STI_Status'].value_counts()\n",
    "grouped_counts = df.groupby('HPV_STATUS')['Family_History_Of_Ca'].value_counts()\n",
    "\n",
    "\n",
    "grouped_counts = grouped_counts.reindex(pd.MultiIndex.from_product([df['HPV_STATUS'].unique(), df['Family_History_Of_Ca'].unique()]))\n",
    "grouped_counts = grouped_counts.unstack()\n",
    "\n",
    "grouped_counts.plot(kind='bar')\n",
    "plt.xlabel('HPV STATUS')\n",
    "plt.ylabel('Counts')\n",
    "plt.title('Grouped Bar Graph of Family_History_Of_Ca by HPV_STATUS')\n",
    "plt.legend(title='Bloody_Vaginal_Discharge')\n",
    "\n",
    "\n",
    "plt.show()"
   ]
  },
  {
   "cell_type": "code",
   "execution_count": 61,
   "id": "57a146f1",
   "metadata": {},
   "outputs": [
    {
     "name": "stdout",
     "output_type": "stream",
     "text": [
      "Requirement already satisfied: plotly in /Users/joelsabiti/anaconda3/envs/myenv/lib/python3.9/site-packages (5.16.1)\n",
      "Requirement already satisfied: tenacity>=6.2.0 in /Users/joelsabiti/anaconda3/envs/myenv/lib/python3.9/site-packages (from plotly) (8.2.3)\n",
      "Requirement already satisfied: packaging in /Users/joelsabiti/anaconda3/envs/myenv/lib/python3.9/site-packages (from plotly) (23.0)\n",
      "Note: you may need to restart the kernel to use updated packages.\n"
     ]
    }
   ],
   "source": [
    "pip install plotly\n"
   ]
  },
  {
   "cell_type": "code",
   "execution_count": 62,
   "id": "051908cc",
   "metadata": {},
   "outputs": [
    {
     "data": {
      "image/png": "[encoded data removed]",
      "text/plain": [
       "<Figure size 1400x800 with 1 Axes>"
      ]
     },
     "metadata": {},
     "output_type": "display_data"
    }
   ],
   "source": [
    "\n",
    "counts = df['Multiple_Sex_Partners'].value_counts()\n",
    "grouped_counts = df.groupby('HPV_STATUS')['Multiple_Sex_Partners'].value_counts()\n",
    "\n",
    "\n",
    "grouped_counts = grouped_counts.reindex(pd.MultiIndex.from_product([df['HPV_STATUS'].unique(), df['Multiple_Sex_Partners'].unique()]))\n",
    "grouped_counts = grouped_counts.unstack()\n",
    "\n",
    "grouped_counts.plot(kind='bar')\n",
    "plt.xlabel('HPV STATUS')\n",
    "plt.ylabel('Counts')\n",
    "plt.title('Grouped Bar Graph of Multiple_Sex_Partners by HPV_STATUS')\n",
    "plt.legend(title='Multiple_Sex_Partners')\n",
    "\n",
    "\n",
    "plt.show()"
   ]
  },
  {
   "cell_type": "code",
   "execution_count": 63,
   "id": "74f5ed11",
   "metadata": {},
   "outputs": [
    {
     "data": {
      "image/png": "[encoded data removed]",
      "text/plain": [
       "<Figure size 1400x800 with 1 Axes>"
      ]
     },
     "metadata": {},
     "output_type": "display_data"
    }
   ],
   "source": [
    "counts = df['Circumcised_Partner'].value_counts()\n",
    "grouped_counts = df.groupby('HPV_STATUS')['Circumcised_Partner'].value_counts()\n",
    "\n",
    "\n",
    "grouped_counts = grouped_counts.reindex(pd.MultiIndex.from_product([df['HPV_STATUS'].unique(), df['Circumcised_Partner'].unique()]))\n",
    "grouped_counts = grouped_counts.unstack()\n",
    "\n",
    "grouped_counts.plot(kind='bar')\n",
    "plt.xlabel('HPV STATUS')\n",
    "plt.ylabel('Counts')\n",
    "plt.title('Grouped Bar Graph of Circumcised_Partner by HPV_STATUS')\n",
    "plt.legend(title='Circumcised_Partner')\n",
    "\n",
    "\n",
    "plt.show()\n"
   ]
  },
  {
   "cell_type": "code",
   "execution_count": 260,
   "id": "52803925",
   "metadata": {},
   "outputs": [
    {
     "ename": "IndentationError",
     "evalue": "unindent does not match any outer indentation level (<tokenize>, line 14)",
     "output_type": "error",
     "traceback": [
      "\u001b[0;36m  File \u001b[0;32m<tokenize>:14\u001b[0;36m\u001b[0m\n\u001b[0;31m    <br>\u001b[0m\n\u001b[0m    ^\u001b[0m\n\u001b[0;31mIndentationError\u001b[0m\u001b[0;31m:\u001b[0m unindent does not match any outer indentation level\n"
     ]
    }
   ],
   "source": [
    "import pandas as pd\n",
    "from scipy.stats import chi2_contingency\n",
    "\n",
    "categorical_columns = [col for col in df.columns if col != 'HPV_STATUS']\n",
    "\n",
    "alpha = 0.05\n",
    "for col in categorical_columns:\n",
    "    contingency_table = pd.crosstab(df[col], df['HPV_STATUS'])\n",
    "    chi2, p_value, dof, expected = chi2_contingency(contingency_table)\n",
    "    print(f\"Chi-square test for '{col}' against 'HPV_STATUS':\")\n",
    "    print(\"Chi2 statistic:\", chi2)\n",
    "    print(\"p-value:\", p_value)\n",
    "    print(\"Are the variables associated (p-value < alpha)?\", p_value < alpha)\n",
    "    print(\"----------------------------------------------------\")\n"
   ]
  },
  {
   "cell_type": "markdown",
   "id": "bd52a7d7",
   "metadata": {},
   "source": [
    "Marital status, Occupation, Multiple Sex Partners, smoking not statistically significant"
   ]
  },
  {
   "cell_type": "code",
   "execution_count": 65,
   "id": "2c7dbb63",
   "metadata": {},
   "outputs": [],
   "source": [
    "cols_to_drop = ['Marital_Status','Occupation','Multiple_Sex_Partners','Smoking']"
   ]
  },
  {
   "cell_type": "code",
   "execution_count": 66,
   "id": "c18558b2",
   "metadata": {},
   "outputs": [],
   "source": [
    "df=df.drop(cols_to_drop, axis=1)"
   ]
  },
  {
   "cell_type": "code",
   "execution_count": 67,
   "id": "b43fa9d2",
   "metadata": {},
   "outputs": [
    {
     "data": {
      "text/html": [
       "<div>\n",
       "<style scoped>\n",
       "    .dataframe tbody tr th:only-of-type {\n",
       "        vertical-align: middle;\n",
       "    }\n",
       "\n",
       "    .dataframe tbody tr th {\n",
       "        vertical-align: top;\n",
       "    }\n",
       "\n",
       "    .dataframe thead th {\n",
       "        text-align: right;\n",
       "    }\n",
       "</style>\n",
       "<table border=\"1\" class=\"dataframe\">\n",
       "  <thead>\n",
       "    <tr style=\"text-align: right;\">\n",
       "      <th></th>\n",
       "      <th>Age</th>\n",
       "      <th>HIV_Status</th>\n",
       "      <th>STI_Status</th>\n",
       "      <th>Bloody_Vaginal_Discharge</th>\n",
       "      <th>Family_History_Of_Ca</th>\n",
       "      <th>Bleeding_History</th>\n",
       "      <th>History_Of_STIs</th>\n",
       "      <th>Use_of_IUDs</th>\n",
       "      <th>Age_At_First_Sexual_Intercourse</th>\n",
       "      <th>Circumcised_Partner</th>\n",
       "      <th>HPV_STATUS</th>\n",
       "    </tr>\n",
       "  </thead>\n",
       "  <tbody>\n",
       "    <tr>\n",
       "      <th>0</th>\n",
       "      <td>28</td>\n",
       "      <td>1</td>\n",
       "      <td>0</td>\n",
       "      <td>0</td>\n",
       "      <td>0</td>\n",
       "      <td>0</td>\n",
       "      <td>1</td>\n",
       "      <td>0</td>\n",
       "      <td>24</td>\n",
       "      <td>1</td>\n",
       "      <td>0</td>\n",
       "    </tr>\n",
       "    <tr>\n",
       "      <th>1</th>\n",
       "      <td>32</td>\n",
       "      <td>1</td>\n",
       "      <td>0</td>\n",
       "      <td>0</td>\n",
       "      <td>0</td>\n",
       "      <td>0</td>\n",
       "      <td>0</td>\n",
       "      <td>0</td>\n",
       "      <td>22</td>\n",
       "      <td>0</td>\n",
       "      <td>0</td>\n",
       "    </tr>\n",
       "    <tr>\n",
       "      <th>2</th>\n",
       "      <td>30</td>\n",
       "      <td>2</td>\n",
       "      <td>0</td>\n",
       "      <td>1</td>\n",
       "      <td>1</td>\n",
       "      <td>1</td>\n",
       "      <td>1</td>\n",
       "      <td>0</td>\n",
       "      <td>16</td>\n",
       "      <td>1</td>\n",
       "      <td>0</td>\n",
       "    </tr>\n",
       "    <tr>\n",
       "      <th>4</th>\n",
       "      <td>36</td>\n",
       "      <td>1</td>\n",
       "      <td>1</td>\n",
       "      <td>1</td>\n",
       "      <td>0</td>\n",
       "      <td>1</td>\n",
       "      <td>0</td>\n",
       "      <td>0</td>\n",
       "      <td>17</td>\n",
       "      <td>1</td>\n",
       "      <td>0</td>\n",
       "    </tr>\n",
       "    <tr>\n",
       "      <th>5</th>\n",
       "      <td>36</td>\n",
       "      <td>2</td>\n",
       "      <td>0</td>\n",
       "      <td>1</td>\n",
       "      <td>0</td>\n",
       "      <td>1</td>\n",
       "      <td>0</td>\n",
       "      <td>0</td>\n",
       "      <td>17</td>\n",
       "      <td>1</td>\n",
       "      <td>0</td>\n",
       "    </tr>\n",
       "    <tr>\n",
       "      <th>...</th>\n",
       "      <td>...</td>\n",
       "      <td>...</td>\n",
       "      <td>...</td>\n",
       "      <td>...</td>\n",
       "      <td>...</td>\n",
       "      <td>...</td>\n",
       "      <td>...</td>\n",
       "      <td>...</td>\n",
       "      <td>...</td>\n",
       "      <td>...</td>\n",
       "      <td>...</td>\n",
       "    </tr>\n",
       "    <tr>\n",
       "      <th>924</th>\n",
       "      <td>40</td>\n",
       "      <td>2</td>\n",
       "      <td>1</td>\n",
       "      <td>0</td>\n",
       "      <td>0</td>\n",
       "      <td>0</td>\n",
       "      <td>0</td>\n",
       "      <td>0</td>\n",
       "      <td>15</td>\n",
       "      <td>1</td>\n",
       "      <td>0</td>\n",
       "    </tr>\n",
       "    <tr>\n",
       "      <th>925</th>\n",
       "      <td>43</td>\n",
       "      <td>2</td>\n",
       "      <td>0</td>\n",
       "      <td>0</td>\n",
       "      <td>0</td>\n",
       "      <td>0</td>\n",
       "      <td>0</td>\n",
       "      <td>0</td>\n",
       "      <td>16</td>\n",
       "      <td>1</td>\n",
       "      <td>0</td>\n",
       "    </tr>\n",
       "    <tr>\n",
       "      <th>926</th>\n",
       "      <td>31</td>\n",
       "      <td>2</td>\n",
       "      <td>1</td>\n",
       "      <td>0</td>\n",
       "      <td>0</td>\n",
       "      <td>0</td>\n",
       "      <td>0</td>\n",
       "      <td>1</td>\n",
       "      <td>16</td>\n",
       "      <td>1</td>\n",
       "      <td>0</td>\n",
       "    </tr>\n",
       "    <tr>\n",
       "      <th>927</th>\n",
       "      <td>35</td>\n",
       "      <td>2</td>\n",
       "      <td>0</td>\n",
       "      <td>0</td>\n",
       "      <td>0</td>\n",
       "      <td>0</td>\n",
       "      <td>0</td>\n",
       "      <td>0</td>\n",
       "      <td>18</td>\n",
       "      <td>1</td>\n",
       "      <td>0</td>\n",
       "    </tr>\n",
       "    <tr>\n",
       "      <th>928</th>\n",
       "      <td>28</td>\n",
       "      <td>2</td>\n",
       "      <td>1</td>\n",
       "      <td>0</td>\n",
       "      <td>0</td>\n",
       "      <td>0</td>\n",
       "      <td>0</td>\n",
       "      <td>0</td>\n",
       "      <td>19</td>\n",
       "      <td>1</td>\n",
       "      <td>0</td>\n",
       "    </tr>\n",
       "  </tbody>\n",
       "</table>\n",
       "<p>904 rows × 11 columns</p>\n",
       "</div>"
      ],
      "text/plain": [
       "     Age  HIV_Status  STI_Status  Bloody_Vaginal_Discharge  \\\n",
       "0     28           1           0                         0   \n",
       "1     32           1           0                         0   \n",
       "2     30           2           0                         1   \n",
       "4     36           1           1                         1   \n",
       "5     36           2           0                         1   \n",
       "..   ...         ...         ...                       ...   \n",
       "924   40           2           1                         0   \n",
       "925   43           2           0                         0   \n",
       "926   31           2           1                         0   \n",
       "927   35           2           0                         0   \n",
       "928   28           2           1                         0   \n",
       "\n",
       "     Family_History_Of_Ca  Bleeding_History  History_Of_STIs  Use_of_IUDs  \\\n",
       "0                       0                 0                1            0   \n",
       "1                       0                 0                0            0   \n",
       "2                       1                 1                1            0   \n",
       "4                       0                 1                0            0   \n",
       "5                       0                 1                0            0   \n",
       "..                    ...               ...              ...          ...   \n",
       "924                     0                 0                0            0   \n",
       "925                     0                 0                0            0   \n",
       "926                     0                 0                0            1   \n",
       "927                     0                 0                0            0   \n",
       "928                     0                 0                0            0   \n",
       "\n",
       "     Age_At_First_Sexual_Intercourse  Circumcised_Partner  HPV_STATUS  \n",
       "0                                 24                    1           0  \n",
       "1                                 22                    0           0  \n",
       "2                                 16                    1           0  \n",
       "4                                 17                    1           0  \n",
       "5                                 17                    1           0  \n",
       "..                               ...                  ...         ...  \n",
       "924                               15                    1           0  \n",
       "925                               16                    1           0  \n",
       "926                               16                    1           0  \n",
       "927                               18                    1           0  \n",
       "928                               19                    1           0  \n",
       "\n",
       "[904 rows x 11 columns]"
      ]
     },
     "execution_count": 67,
     "metadata": {},
     "output_type": "execute_result"
    }
   ],
   "source": [
    "df"
   ]
  },
  {
   "cell_type": "code",
   "execution_count": 258,
   "id": "57f920c5",
   "metadata": {},
   "outputs": [
    {
     "data": {
      "text/html": [
       "<div>\n",
       "<style scoped>\n",
       "    .dataframe tbody tr th:only-of-type {\n",
       "        vertical-align: middle;\n",
       "    }\n",
       "\n",
       "    .dataframe tbody tr th {\n",
       "        vertical-align: top;\n",
       "    }\n",
       "\n",
       "    .dataframe thead th {\n",
       "        text-align: right;\n",
       "    }\n",
       "</style>\n",
       "<table border=\"1\" class=\"dataframe\">\n",
       "  <thead>\n",
       "    <tr style=\"text-align: right;\">\n",
       "      <th></th>\n",
       "      <th>Age</th>\n",
       "      <th>HIV_Status</th>\n",
       "      <th>STI_Status</th>\n",
       "      <th>Bloody_Vaginal_Discharge</th>\n",
       "      <th>Family_History_Of_Ca</th>\n",
       "      <th>Bleeding_History</th>\n",
       "      <th>History_Of_STIs</th>\n",
       "      <th>Use_of_IUDs</th>\n",
       "      <th>Age_At_First_Sexual_Intercourse</th>\n",
       "      <th>Circumcised_Partner</th>\n",
       "      <th>HPV_STATUS</th>\n",
       "    </tr>\n",
       "  </thead>\n",
       "  <tbody>\n",
       "    <tr>\n",
       "      <th>0</th>\n",
       "      <td>28</td>\n",
       "      <td>1</td>\n",
       "      <td>0</td>\n",
       "      <td>0</td>\n",
       "      <td>0</td>\n",
       "      <td>0</td>\n",
       "      <td>1</td>\n",
       "      <td>0</td>\n",
       "      <td>24</td>\n",
       "      <td>1</td>\n",
       "      <td>0</td>\n",
       "    </tr>\n",
       "    <tr>\n",
       "      <th>1</th>\n",
       "      <td>32</td>\n",
       "      <td>1</td>\n",
       "      <td>0</td>\n",
       "      <td>0</td>\n",
       "      <td>0</td>\n",
       "      <td>0</td>\n",
       "      <td>0</td>\n",
       "      <td>0</td>\n",
       "      <td>22</td>\n",
       "      <td>0</td>\n",
       "      <td>0</td>\n",
       "    </tr>\n",
       "    <tr>\n",
       "      <th>2</th>\n",
       "      <td>30</td>\n",
       "      <td>2</td>\n",
       "      <td>0</td>\n",
       "      <td>1</td>\n",
       "      <td>1</td>\n",
       "      <td>1</td>\n",
       "      <td>1</td>\n",
       "      <td>0</td>\n",
       "      <td>16</td>\n",
       "      <td>1</td>\n",
       "      <td>0</td>\n",
       "    </tr>\n",
       "    <tr>\n",
       "      <th>4</th>\n",
       "      <td>36</td>\n",
       "      <td>1</td>\n",
       "      <td>1</td>\n",
       "      <td>1</td>\n",
       "      <td>0</td>\n",
       "      <td>1</td>\n",
       "      <td>0</td>\n",
       "      <td>0</td>\n",
       "      <td>17</td>\n",
       "      <td>1</td>\n",
       "      <td>0</td>\n",
       "    </tr>\n",
       "    <tr>\n",
       "      <th>5</th>\n",
       "      <td>36</td>\n",
       "      <td>2</td>\n",
       "      <td>0</td>\n",
       "      <td>1</td>\n",
       "      <td>0</td>\n",
       "      <td>1</td>\n",
       "      <td>0</td>\n",
       "      <td>0</td>\n",
       "      <td>17</td>\n",
       "      <td>1</td>\n",
       "      <td>0</td>\n",
       "    </tr>\n",
       "    <tr>\n",
       "      <th>...</th>\n",
       "      <td>...</td>\n",
       "      <td>...</td>\n",
       "      <td>...</td>\n",
       "      <td>...</td>\n",
       "      <td>...</td>\n",
       "      <td>...</td>\n",
       "      <td>...</td>\n",
       "      <td>...</td>\n",
       "      <td>...</td>\n",
       "      <td>...</td>\n",
       "      <td>...</td>\n",
       "    </tr>\n",
       "    <tr>\n",
       "      <th>924</th>\n",
       "      <td>40</td>\n",
       "      <td>2</td>\n",
       "      <td>1</td>\n",
       "      <td>0</td>\n",
       "      <td>0</td>\n",
       "      <td>0</td>\n",
       "      <td>0</td>\n",
       "      <td>0</td>\n",
       "      <td>15</td>\n",
       "      <td>1</td>\n",
       "      <td>0</td>\n",
       "    </tr>\n",
       "    <tr>\n",
       "      <th>925</th>\n",
       "      <td>43</td>\n",
       "      <td>2</td>\n",
       "      <td>0</td>\n",
       "      <td>0</td>\n",
       "      <td>0</td>\n",
       "      <td>0</td>\n",
       "      <td>0</td>\n",
       "      <td>0</td>\n",
       "      <td>16</td>\n",
       "      <td>1</td>\n",
       "      <td>0</td>\n",
       "    </tr>\n",
       "    <tr>\n",
       "      <th>926</th>\n",
       "      <td>31</td>\n",
       "      <td>2</td>\n",
       "      <td>1</td>\n",
       "      <td>0</td>\n",
       "      <td>0</td>\n",
       "      <td>0</td>\n",
       "      <td>0</td>\n",
       "      <td>1</td>\n",
       "      <td>16</td>\n",
       "      <td>1</td>\n",
       "      <td>0</td>\n",
       "    </tr>\n",
       "    <tr>\n",
       "      <th>927</th>\n",
       "      <td>35</td>\n",
       "      <td>2</td>\n",
       "      <td>0</td>\n",
       "      <td>0</td>\n",
       "      <td>0</td>\n",
       "      <td>0</td>\n",
       "      <td>0</td>\n",
       "      <td>0</td>\n",
       "      <td>18</td>\n",
       "      <td>1</td>\n",
       "      <td>0</td>\n",
       "    </tr>\n",
       "    <tr>\n",
       "      <th>928</th>\n",
       "      <td>28</td>\n",
       "      <td>2</td>\n",
       "      <td>1</td>\n",
       "      <td>0</td>\n",
       "      <td>0</td>\n",
       "      <td>0</td>\n",
       "      <td>0</td>\n",
       "      <td>0</td>\n",
       "      <td>19</td>\n",
       "      <td>1</td>\n",
       "      <td>0</td>\n",
       "    </tr>\n",
       "  </tbody>\n",
       "</table>\n",
       "<p>904 rows × 11 columns</p>\n",
       "</div>"
      ],
      "text/plain": [
       "     Age  HIV_Status  STI_Status  Bloody_Vaginal_Discharge  \\\n",
       "0     28           1           0                         0   \n",
       "1     32           1           0                         0   \n",
       "2     30           2           0                         1   \n",
       "4     36           1           1                         1   \n",
       "5     36           2           0                         1   \n",
       "..   ...         ...         ...                       ...   \n",
       "924   40           2           1                         0   \n",
       "925   43           2           0                         0   \n",
       "926   31           2           1                         0   \n",
       "927   35           2           0                         0   \n",
       "928   28           2           1                         0   \n",
       "\n",
       "     Family_History_Of_Ca  Bleeding_History  History_Of_STIs  Use_of_IUDs  \\\n",
       "0                       0                 0                1            0   \n",
       "1                       0                 0                0            0   \n",
       "2                       1                 1                1            0   \n",
       "4                       0                 1                0            0   \n",
       "5                       0                 1                0            0   \n",
       "..                    ...               ...              ...          ...   \n",
       "924                     0                 0                0            0   \n",
       "925                     0                 0                0            0   \n",
       "926                     0                 0                0            1   \n",
       "927                     0                 0                0            0   \n",
       "928                     0                 0                0            0   \n",
       "\n",
       "     Age_At_First_Sexual_Intercourse  Circumcised_Partner  HPV_STATUS  \n",
       "0                                 24                    1           0  \n",
       "1                                 22                    0           0  \n",
       "2                                 16                    1           0  \n",
       "4                                 17                    1           0  \n",
       "5                                 17                    1           0  \n",
       "..                               ...                  ...         ...  \n",
       "924                               15                    1           0  \n",
       "925                               16                    1           0  \n",
       "926                               16                    1           0  \n",
       "927                               18                    1           0  \n",
       "928                               19                    1           0  \n",
       "\n",
       "[904 rows x 11 columns]"
      ]
     },
     "execution_count": 258,
     "metadata": {},
     "output_type": "execute_result"
    }
   ],
   "source": [
    "df_new"
   ]
  },
  {
   "cell_type": "code",
   "execution_count": 103,
   "id": "d286b174",
   "metadata": {},
   "outputs": [],
   "source": [
    "from sklearn.model_selection import train_test_split\n",
    "from imblearn.over_sampling import SMOTE\n",
    "X = df_new.drop(columns=['HPV_STATUS'])\n",
    "y = df_new['HPV_STATUS']\n",
    "X_train, X_test, y_train, y_test = train_test_split(X, y, test_size=0.2, random_state=15, stratify=y)\n",
    "smote=SMOTE()\n",
    "X_train_resampled, y_train_resampled = smote.fit_resample(X_train, y_train)"
   ]
  },
  {
   "cell_type": "markdown",
   "id": "b9d429c7",
   "metadata": {},
   "source": [
    "# USING RANDOM FOREST CLASSIFIER"
   ]
  },
  {
   "cell_type": "code",
   "execution_count": 105,
   "id": "6b2bf3fe",
   "metadata": {},
   "outputs": [
    {
     "name": "stdout",
     "output_type": "stream",
     "text": [
      "Fitting 10 folds for each of 1 candidates, totalling 10 fits\n",
      "Best Parameters: {}\n",
      "Classification Report for Training Data:\n",
      "               precision    recall  f1-score   support\n",
      "\n",
      "           0       0.98      0.98      0.98       657\n",
      "           1       0.98      0.98      0.98       657\n",
      "\n",
      "    accuracy                           0.98      1314\n",
      "   macro avg       0.98      0.98      0.98      1314\n",
      "weighted avg       0.98      0.98      0.98      1314\n",
      "\n",
      "Classification Report for Testing Data:\n",
      "               precision    recall  f1-score   support\n",
      "\n",
      "           0       0.98      0.90      0.94       164\n",
      "           1       0.45      0.82      0.58        17\n",
      "\n",
      "    accuracy                           0.89       181\n",
      "   macro avg       0.72      0.86      0.76       181\n",
      "weighted avg       0.93      0.89      0.90       181\n",
      "\n"
     ]
    }
   ],
   "source": [
    "from sklearn.ensemble import RandomForestClassifier, BaggingClassifier\n",
    "from sklearn.model_selection import GridSearchCV, StratifiedKFold\n",
    "from sklearn.metrics import classification_report\n",
    "\n",
    "param_grid = {\n",
    "    'base_estimator__n_estimators': [100, 200, 300],\n",
    "    'base_estimator__max_depth': [None, 10, 20],\n",
    "    'base_estimator__min_samples_split': [2, 5, 10],\n",
    "    'base_estimator__min_samples_leaf': [1, 2, 4],\n",
    "    'base_estimator__max_features': ['auto', 'sqrt', 'log2'],\n",
    "    'base_estimator__class_weight': [\n",
    "        {0: 0.4, 1: 0.6},\n",
    "        {0: 0.3, 1: 0.7},     \n",
    "    ],\n",
    "    'n_estimators': [10, 20],  \n",
    "}\n",
    "\n",
    "base_estimator = RandomForestClassifier(random_state=42)\n",
    "\n",
    "bagging_classifier = BaggingClassifier(base_estimator, n_estimators=10, random_state=42)\n",
    "\n",
    "stratified_kfolds = StratifiedKFold(n_splits=10, shuffle=True, random_state=42)\n",
    "\n",
    "grid_search = GridSearchCV(bagging_classifier, param_grid, cv=stratified_kfolds, scoring='recall', verbose=1)\n",
    "\n",
    "grid_search.fit(X_train_resampled, y_train_resampled)\n",
    "\n",
    "best_estimator = grid_search.best_estimator_\n",
    "y_pred = best_estimator.predict(X_test)\n",
    "\n",
    "report_train = classification_report(y_train_resampled, grid_search.predict(X_train_resampled))\n",
    "report_test = classification_report(y_test, y_pred)\n",
    "\n",
    "print(\"Best Parameters:\", grid_search.best_params_)\n",
    "print(\"Classification Report for Training Data:\\n\", report_train)\n",
    "print(\"Classification Report for Testing Data:\\n\", report_test)\n"
   ]
  },
  {
   "cell_type": "markdown",
   "id": "49d223f1",
   "metadata": {},
   "source": [
    "# Using Random Forest with Bagging"
   ]
  },
  {
   "cell_type": "code",
   "execution_count": 106,
   "id": "8ea0eb1c",
   "metadata": {},
   "outputs": [
    {
     "name": "stdout",
     "output_type": "stream",
     "text": [
      "Fitting 10 folds for each of 10 candidates, totalling 100 fits\n",
      "Best Parameters: {'n_estimators': 20, 'base_estimator__n_estimators': 100, 'base_estimator__min_samples_split': 5, 'base_estimator__min_samples_leaf': 2, 'base_estimator__max_features': 'sqrt', 'base_estimator__max_depth': 20, 'base_estimator__class_weight': {0: 0.3, 1: 0.7}}\n",
      "Classification Report for Training Data:\n",
      "               precision    recall  f1-score   support\n",
      "\n",
      "           0       0.98      0.92      0.95       657\n",
      "           1       0.93      0.98      0.95       657\n",
      "\n",
      "    accuracy                           0.95      1314\n",
      "   macro avg       0.95      0.95      0.95      1314\n",
      "weighted avg       0.95      0.95      0.95      1314\n",
      "\n",
      "Classification Report for Testing Data:\n",
      "               precision    recall  f1-score   support\n",
      "\n",
      "           0       0.99      0.88      0.93       164\n",
      "           1       0.44      0.88      0.59        17\n",
      "\n",
      "    accuracy                           0.88       181\n",
      "   macro avg       0.71      0.88      0.76       181\n",
      "weighted avg       0.94      0.88      0.90       181\n",
      "\n"
     ]
    }
   ],
   "source": [
    "from sklearn.ensemble import RandomForestClassifier, BaggingClassifier\n",
    "from sklearn.model_selection import RandomizedSearchCV, StratifiedKFold\n",
    "from sklearn.metrics import classification_report\n",
    "\n",
    "param_dist = {\n",
    "    'base_estimator__n_estimators': [100, 200, 300],\n",
    "    'base_estimator__max_depth': [None, 10, 20],\n",
    "    'base_estimator__min_samples_split': [2, 5, 10],\n",
    "    'base_estimator__min_samples_leaf': [1, 2, 4],\n",
    "    'base_estimator__max_features': ['auto', 'sqrt', 'log2'],\n",
    "    'base_estimator__class_weight': [\n",
    "        {0: 0.4, 1: 0.6},\n",
    "        {0: 0.3, 1: 0.7},\n",
    "    ],\n",
    "    'n_estimators': [10, 20],  \n",
    "}\n",
    "\n",
    "base_estimator = RandomForestClassifier(random_state=42)\n",
    "bagging_classifier = BaggingClassifier(base_estimator, random_state=42)\n",
    "\n",
    "stratified_kfolds = StratifiedKFold(n_splits=10, shuffle=True, random_state=42)\n",
    "\n",
    "random_search = RandomizedSearchCV(\n",
    "    bagging_classifier, param_distributions=param_dist, n_iter=10,\n",
    "    cv=stratified_kfolds, scoring='recall', verbose=1, random_state=42\n",
    ")\n",
    "\n",
    "random_search.fit(X_train_resampled, y_train_resampled)\n",
    "\n",
    "best_estimator = random_search.best_estimator_\n",
    "y_pred = best_estimator.predict(X_test)\n",
    "\n",
    "report_train = classification_report(y_train_resampled, random_search.predict(X_train_resampled))\n",
    "report_test = classification_report(y_test, y_pred)\n",
    "\n",
    "print(\"Best Parameters:\", random_search.best_params_)\n",
    "print(\"Classification Report for Training Data:\\n\", report_train)\n",
    "print(\"Classification Report for Testing Data:\\n\", report_test)\n"
   ]
  },
  {
   "cell_type": "markdown",
   "id": "cda90f63",
   "metadata": {},
   "source": [
    "# Using Decision Trees"
   ]
  },
  {
   "cell_type": "code",
   "execution_count": 107,
   "id": "6562ddec",
   "metadata": {},
   "outputs": [
    {
     "name": "stdout",
     "output_type": "stream",
     "text": [
      "Fitting 10 folds for each of 324 candidates, totalling 3240 fits\n",
      "Best Parameters: {'base_estimator__class_weight': {0: 0.3, 1: 0.7}, 'base_estimator__max_depth': 10, 'base_estimator__max_features': 'sqrt', 'base_estimator__min_samples_leaf': 2, 'base_estimator__min_samples_split': 5, 'n_estimators': 20}\n",
      "Classification Report for Training Data:\n",
      "               precision    recall  f1-score   support\n",
      "\n",
      "           0       0.98      0.93      0.96       657\n",
      "           1       0.93      0.98      0.96       657\n",
      "\n",
      "    accuracy                           0.96      1314\n",
      "   macro avg       0.96      0.96      0.96      1314\n",
      "weighted avg       0.96      0.96      0.96      1314\n",
      "\n",
      "Classification Report for Testing Data:\n",
      "               precision    recall  f1-score   support\n",
      "\n",
      "           0       0.99      0.88      0.93       164\n",
      "           1       0.44      0.88      0.59        17\n",
      "\n",
      "    accuracy                           0.88       181\n",
      "   macro avg       0.71      0.88      0.76       181\n",
      "weighted avg       0.94      0.88      0.90       181\n",
      "\n"
     ]
    }
   ],
   "source": [
    "from sklearn.tree import DecisionTreeClassifier\n",
    "from sklearn.ensemble import BaggingClassifier\n",
    "from sklearn.model_selection import GridSearchCV, StratifiedKFold\n",
    "from sklearn.metrics import classification_report\n",
    "\n",
    "param_grid = {\n",
    "    'base_estimator__max_depth': [None, 10, 20],\n",
    "    'base_estimator__min_samples_split': [2, 5, 10],\n",
    "    'base_estimator__min_samples_leaf': [1, 2, 4],\n",
    "    'base_estimator__max_features': ['auto', 'sqrt', 'log2'],\n",
    "    'base_estimator__class_weight': [\n",
    "        {0: 0.4, 1: 0.6},\n",
    "        {0: 0.3, 1: 0.7},     \n",
    "    ],\n",
    "    'n_estimators': [10, 20], \n",
    "}\n",
    "\n",
    "base_estimator = DecisionTreeClassifier(random_state=42)\n",
    "\n",
    "bagging_classifier = BaggingClassifier(base_estimator, n_estimators=10, random_state=42)\n",
    "\n",
    "stratified_kfolds = StratifiedKFold(n_splits=10, shuffle=True, random_state=42)\n",
    "\n",
    "grid_search = GridSearchCV(bagging_classifier, param_grid, cv=stratified_kfolds, scoring='recall', verbose=1)\n",
    "\n",
    "grid_search.fit(X_train_resampled, y_train_resampled)\n",
    "\n",
    "best_estimator = grid_search.best_estimator_\n",
    "y_pred = best_estimator.predict(X_test)\n",
    "\n",
    "report_train = classification_report(y_train_resampled, grid_search.predict(X_train_resampled))\n",
    "report_test = classification_report(y_test, y_pred)\n",
    "\n",
    "print(\"Best Parameters:\", grid_search.best_params_)\n",
    "print(\"Classification Report for Training Data:\\n\", report_train)\n",
    "print(\"Classification Report for Testing Data:\\n\", report_test)\n"
   ]
  },
  {
   "cell_type": "code",
   "execution_count": 112,
   "id": "786bf8b9",
   "metadata": {},
   "outputs": [
    {
     "name": "stdout",
     "output_type": "stream",
     "text": [
      "Fitting 10 folds for each of 1458 candidates, totalling 14580 fits\n",
      "Best Parameters: {'learning_rate': 0.2, 'max_depth': 5, 'max_features': 'sqrt', 'min_samples_leaf': 2, 'min_samples_split': 2, 'n_estimators': 100, 'subsample': 1.0}\n",
      "Classification Report for Training Data:\n",
      "               precision    recall  f1-score   support\n",
      "\n",
      "           0       0.99      0.99      0.99       657\n",
      "           1       0.99      0.99      0.99       657\n",
      "\n",
      "    accuracy                           0.99      1314\n",
      "   macro avg       0.99      0.99      0.99      1314\n",
      "weighted avg       0.99      0.99      0.99      1314\n",
      "\n",
      "Classification Report for Testing Data:\n",
      "               precision    recall  f1-score   support\n",
      "\n",
      "           0       0.97      0.92      0.94       164\n",
      "           1       0.48      0.71      0.57        17\n",
      "\n",
      "    accuracy                           0.90       181\n",
      "   macro avg       0.72      0.81      0.76       181\n",
      "weighted avg       0.92      0.90      0.91       181\n",
      "\n"
     ]
    }
   ],
   "source": [
    "from sklearn.ensemble import GradientBoostingClassifier\n",
    "from sklearn.model_selection import GridSearchCV, StratifiedKFold\n",
    "from sklearn.metrics import classification_report\n",
    "\n",
    "param_grid = {\n",
    "    'n_estimators': [50, 100, 200],\n",
    "    'learning_rate': [0.01, 0.1, 0.2],\n",
    "    'max_depth': [3, 4, 5],\n",
    "    'min_samples_split': [2, 5, 10],\n",
    "    'min_samples_leaf': [1, 2, 4],\n",
    "    'subsample': [0.8, 1.0],\n",
    "    'max_features': ['auto', 'sqrt', 'log2'],\n",
    "}\n",
    "\n",
    "boosting_classifier = GradientBoostingClassifier(random_state=42)\n",
    "\n",
    "stratified_kfolds = StratifiedKFold(n_splits=10, shuffle=True, random_state=42)\n",
    "\n",
    "grid_search = GridSearchCV(boosting_classifier, param_grid, cv=stratified_kfolds, scoring='recall', verbose=1)\n",
    "\n",
    "grid_search.fit(X_train_resampled, y_train_resampled)\n",
    "\n",
    "best_estimator = grid_search.best_estimator_\n",
    "y_pred = best_estimator.predict(X_test)\n",
    "\n",
    "report_train = classification_report(y_train_resampled, grid_search.predict(X_train_resampled))\n",
    "report_test = classification_report(y_test, y_pred)\n",
    "\n",
    "print(\"Best Parameters:\", grid_search.best_params_)\n",
    "print(\"Classification Report for Training Data:\\n\", report_train)\n",
    "print(\"Classification Report for Testing Data:\\n\", report_test)\n"
   ]
  },
  {
   "cell_type": "markdown",
   "id": "b97c771f",
   "metadata": {},
   "source": [
    "# USING ADABOOST "
   ]
  },
  {
   "cell_type": "code",
   "execution_count": 115,
   "id": "ab8349b1",
   "metadata": {},
   "outputs": [
    {
     "name": "stdout",
     "output_type": "stream",
     "text": [
      "Fitting 10 folds for each of 100 candidates, totalling 1000 fits\n",
      "Best Parameters: {'base_estimator__max_depth': 3, 'base_estimator__min_samples_leaf': 4, 'base_estimator__min_samples_split': 5, 'learning_rate': 0.021282315805420053, 'n_estimators': 137}\n",
      "Classification Report for Training Data:\n",
      "               precision    recall  f1-score   support\n",
      "\n",
      "           0       0.97      0.99      0.98       657\n",
      "           1       0.86      0.73      0.79        66\n",
      "\n",
      "    accuracy                           0.96       723\n",
      "   macro avg       0.92      0.86      0.88       723\n",
      "weighted avg       0.96      0.96      0.96       723\n",
      "\n",
      "Classification Report for Testing Data:\n",
      "               precision    recall  f1-score   support\n",
      "\n",
      "           0       0.97      0.98      0.97       164\n",
      "           1       0.75      0.71      0.73        17\n",
      "\n",
      "    accuracy                           0.95       181\n",
      "   macro avg       0.86      0.84      0.85       181\n",
      "weighted avg       0.95      0.95      0.95       181\n",
      "\n"
     ]
    }
   ],
   "source": [
    "from sklearn.ensemble import AdaBoostClassifier\n",
    "from sklearn.model_selection import RandomizedSearchCV, StratifiedKFold\n",
    "from sklearn.metrics import classification_report\n",
    "from scipy.stats import randint, uniform\n",
    "\n",
    "param_dist = {\n",
    "    'n_estimators': randint(50, 201),  \n",
    "    'learning_rate': uniform(0.01, 0.2),  \n",
    "    'base_estimator__max_depth': [3, 4, 5],\n",
    "    'base_estimator__min_samples_split': [2, 5, 10],\n",
    "    'base_estimator__min_samples_leaf': [1, 2, 4],\n",
    "}\n",
    "\n",
    "base_estimator = DecisionTreeClassifier(random_state=42)\n",
    "boosting_classifier = AdaBoostClassifier(base_estimator=base_estimator, random_state=42)\n",
    "\n",
    "stratified_kfolds = StratifiedKFold(n_splits=10, shuffle=True, random_state=42)\n",
    "\n",
    "random_search = RandomizedSearchCV(\n",
    "    boosting_classifier, param_distributions=param_dist,\n",
    "    n_iter=100, cv=stratified_kfolds, scoring='recall', verbose=1, random_state=42\n",
    ")\n",
    "\n",
    "random_search.fit(X_train, y_train)\n",
    "\n",
    "best_estimator = random_search.best_estimator_\n",
    "y_pred = best_estimator.predict(X_test)\n",
    "\n",
    "report_train = classification_report(y_train, random_search.predict(X_train))\n",
    "report_test = classification_report(y_test, y_pred)\n",
    "\n",
    "print(\"Best Parameters:\", random_search.best_params_)\n",
    "print(\"Classification Report for Training Data:\\n\", report_train)\n",
    "print(\"Classification Report for Testing Data:\\n\", report_test)\n"
   ]
  },
  {
   "cell_type": "markdown",
   "id": "1f11722b",
   "metadata": {},
   "source": [
    "# USING SVM"
   ]
  },
  {
   "cell_type": "code",
   "execution_count": 118,
   "id": "f02596e6",
   "metadata": {},
   "outputs": [
    {
     "name": "stdout",
     "output_type": "stream",
     "text": [
      "Fitting 5 folds for each of 18 candidates, totalling 90 fits\n",
      "Best Parameters: {'C': 10, 'class_weight': 'balanced', 'kernel': 'rbf'}\n",
      "Classification Report for Training Data:\n",
      "               precision    recall  f1-score   support\n",
      "\n",
      "           0       0.98      0.89      0.93       655\n",
      "           1       0.44      0.85      0.58        68\n",
      "\n",
      "    accuracy                           0.89       723\n",
      "   macro avg       0.71      0.87      0.76       723\n",
      "weighted avg       0.93      0.89      0.90       723\n",
      "\n",
      "Classification Report for Testing Data:\n",
      "               precision    recall  f1-score   support\n",
      "\n",
      "           0       1.00      0.87      0.93       166\n",
      "           1       0.42      1.00      0.59        15\n",
      "\n",
      "    accuracy                           0.88       181\n",
      "   macro avg       0.71      0.94      0.76       181\n",
      "weighted avg       0.95      0.88      0.90       181\n",
      "\n"
     ]
    }
   ],
   "source": [
    "from sklearn.svm import SVC\n",
    "from sklearn.model_selection import GridSearchCV, StratifiedKFold, cross_val_predict, train_test_split\n",
    "from sklearn.metrics import classification_report\n",
    "\n",
    "param_grid = {\n",
    "    'C': [0.1, 1, 10],\n",
    "    'kernel': ['rbf', 'poly', 'sigmoid'],\n",
    "    'class_weight': [None, 'balanced']\n",
    "}\n",
    "\n",
    "X_train, X_test, y_train, y_test = train_test_split(X, y, test_size=0.2, random_state=42)\n",
    "\n",
    "stratified_kfold = StratifiedKFold(n_splits=5, shuffle=True, random_state=42)\n",
    "grid_search = GridSearchCV(SVC(random_state=42), param_grid, cv=stratified_kfold, scoring='recall', verbose=1)\n",
    "\n",
    "grid_search.fit(X_train, y_train)\n",
    "best_estimator = grid_search.best_estimator_\n",
    "\n",
    "predictions = cross_val_predict(best_estimator, X_train, y_train, cv=stratified_kfold)\n",
    "\n",
    "\n",
    "report_train = classification_report(y_train, predictions)\n",
    "\n",
    "y_pred = best_estimator.predict(X_test)\n",
    "\n",
    "report_test = classification_report(y_test, y_pred)\n",
    "\n",
    "print(\"Best Parameters:\", grid_search.best_params_)\n",
    "print(\"Classification Report for Training Data:\\n\", report_train)\n",
    "print(\"Classification Report for Testing Data:\\n\", report_test)\n"
   ]
  },
  {
   "cell_type": "markdown",
   "id": "c8974e23",
   "metadata": {},
   "source": [
    "# Logistic Regression"
   ]
  },
  {
   "cell_type": "code",
   "execution_count": 120,
   "id": "d98969f9",
   "metadata": {},
   "outputs": [
    {
     "name": "stdout",
     "output_type": "stream",
     "text": [
      "Fitting 5 folds for each of 12 candidates, totalling 60 fits\n",
      "Best Parameters: {'C': 10, 'class_weight': None, 'penalty': 'l2'}\n",
      "Classification Report for Training Data:\n",
      "               precision    recall  f1-score   support\n",
      "\n",
      "           0       0.88      0.88      0.88       657\n",
      "           1       0.88      0.88      0.88       657\n",
      "\n",
      "    accuracy                           0.88      1314\n",
      "   macro avg       0.88      0.88      0.88      1314\n",
      "weighted avg       0.88      0.88      0.88      1314\n",
      "\n",
      "Classification Report for Testing Data:\n",
      "               precision    recall  f1-score   support\n",
      "\n",
      "           0       0.98      0.99      0.98       166\n",
      "           1       0.85      0.73      0.79        15\n",
      "\n",
      "    accuracy                           0.97       181\n",
      "   macro avg       0.91      0.86      0.88       181\n",
      "weighted avg       0.97      0.97      0.97       181\n",
      "\n"
     ]
    }
   ],
   "source": [
    "from sklearn.linear_model import LogisticRegression\n",
    "from sklearn.model_selection import GridSearchCV, train_test_split\n",
    "from sklearn.metrics import classification_report\n",
    "\n",
    "param_grid = {\n",
    "    'C': [0.1, 1, 10],\n",
    "    'penalty': ['l1', 'l2'],\n",
    "    'class_weight': [None, 'balanced']\n",
    "}\n",
    "\n",
    "kfolds = 5\n",
    "grid_search = GridSearchCV(LogisticRegression(random_state=42), param_grid, cv=kfolds, scoring='f1_macro', verbose=1)\n",
    "\n",
    "grid_search.fit(X_train, y_train)\n",
    "\n",
    "best_estimator = grid_search.best_estimator_\n",
    "\n",
    "predictions = cross_val_predict(best_estimator, X_train_resampled, y_train_resampled, cv=kfolds)\n",
    "\n",
    "report_train = classification_report(y_train_resampled, predictions)\n",
    "\n",
    "y_pred = best_estimator.predict(X_test)\n",
    "\n",
    "report_test = classification_report(y_test, y_pred)\n",
    "\n",
    "print(\"Best Parameters:\", grid_search.best_params_)\n",
    "print(\"Classification Report for Training Data:\\n\", report_train)\n",
    "print(\"Classification Report for Testing Data:\\n\", report_test)\n"
   ]
  },
  {
   "cell_type": "code",
   "execution_count": 122,
   "id": "2ae19541",
   "metadata": {},
   "outputs": [
    {
     "name": "stdout",
     "output_type": "stream",
     "text": [
      "Fitting 5 folds for each of 6 candidates, totalling 30 fits\n",
      "Best Parameters: {'C': 10, 'penalty': 'l2'}\n",
      "Classification Report:\n",
      "               precision    recall  f1-score   support\n",
      "\n",
      "           0       0.99      0.86      0.92       166\n",
      "           1       0.36      0.87      0.51        15\n",
      "\n",
      "    accuracy                           0.86       181\n",
      "   macro avg       0.67      0.86      0.71       181\n",
      "weighted avg       0.93      0.86      0.89       181\n",
      "\n"
     ]
    }
   ],
   "source": [
    "from sklearn.datasets import make_classification\n",
    "from sklearn.model_selection import StratifiedKFold, train_test_split, GridSearchCV\n",
    "from sklearn.linear_model import LogisticRegression\n",
    "from sklearn.metrics import classification_report\n",
    "from imblearn.over_sampling import SMOTE\n",
    "\n",
    "\n",
    "param_grid = {\n",
    "    'penalty': ['l1', 'l2'],\n",
    "    'C': [0.1, 1, 10]\n",
    "}\n",
    "\n",
    "log_reg = LogisticRegression(solver='liblinear', random_state=42)\n",
    "\n",
    "\n",
    "stratified_kfolds = StratifiedKFold(n_splits=5, shuffle=True, random_state=42)\n",
    "\n",
    "\n",
    "grid_search = GridSearchCV(log_reg, param_grid, cv=stratified_kfolds, scoring='recall', verbose=1)\n",
    "grid_search.fit(X_train_resampled, y_train_resampled)\n",
    "\n",
    "best_estimator = grid_search.best_estimator_\n",
    "\n",
    "y_pred = best_estimator.predict(X_test)\n",
    "\n",
    "\n",
    "print(\"Best Parameters:\", grid_search.best_params_)\n",
    "print(\"Classification Report:\\n\", classification_report(y_test, y_pred))\n"
   ]
  },
  {
   "cell_type": "markdown",
   "id": "384e01e9",
   "metadata": {},
   "source": [
    "# USING  TRADITIONAL SVM"
   ]
  },
  {
   "cell_type": "code",
   "execution_count": 127,
   "id": "b66d6688",
   "metadata": {
    "scrolled": false
   },
   "outputs": [
    {
     "name": "stdout",
     "output_type": "stream",
     "text": [
      "Best Hyperparameters: {'C': 10, 'kernel': 'linear'}\n",
      "\n",
      "Classification Report:\n",
      "               precision    recall  f1-score   support\n",
      "\n",
      "           0       0.99      0.84      0.91       166\n",
      "           1       0.34      0.93      0.50        15\n",
      "\n",
      "    accuracy                           0.85       181\n",
      "   macro avg       0.67      0.89      0.70       181\n",
      "weighted avg       0.94      0.85      0.87       181\n",
      "\n"
     ]
    }
   ],
   "source": [
    "from sklearn.model_selection import train_test_split, GridSearchCV, StratifiedKFold\n",
    "from sklearn.svm import SVC\n",
    "from sklearn.metrics import classification_report\n",
    "\n",
    "# Split data into train and test sets\n",
    "X_train, X_test, y_train, y_test = train_test_split(X, y, test_size=0.2, random_state=42)\n",
    "\n",
    "# Define parameter grid for grid search\n",
    "param_grid = {\n",
    "    'C': [0.1, 1, 10],\n",
    "    'kernel': ['linear'],\n",
    "}\n",
    "\n",
    "# Create SVM model with class weights\n",
    "svm = SVC(class_weight='balanced')\n",
    "\n",
    "# Create stratified k-fold cross-validator\n",
    "stratified_kfold = StratifiedKFold(n_splits=5, shuffle=True, random_state=42)\n",
    "\n",
    "# Perform grid search with cross-validation\n",
    "grid_search = GridSearchCV(svm, param_grid, cv=stratified_kfold, scoring='precision', n_jobs=-1)\n",
    "grid_search.fit(X_train, y_train)\n",
    "\n",
    "# Get the best SVM estimator\n",
    "best_svm = grid_search.best_estimator_\n",
    "best_params = grid_search.best_params_\n",
    "\n",
    "# Predict on the test set\n",
    "y_pred = best_svm.predict(X_test)\n",
    "\n",
    "# Print best hyperparameters and classification report\n",
    "print(\"Best Hyperparameters:\", best_params)\n",
    "print(\"\\nClassification Report:\\n\", classification_report(y_test, y_pred))\n"
   ]
  },
  {
   "cell_type": "code",
   "execution_count": 129,
   "id": "8cf32245",
   "metadata": {},
   "outputs": [
    {
     "name": "stdout",
     "output_type": "stream",
     "text": [
      "Best Hyperparameters: {'C': 1, 'kernel': 'linear'}\n",
      "\n",
      "Classification Report:\n",
      "               precision    recall  f1-score   support\n",
      "\n",
      "           0       0.99      0.86      0.92       166\n",
      "           1       0.36      0.87      0.51        15\n",
      "\n",
      "    accuracy                           0.86       181\n",
      "   macro avg       0.67      0.86      0.71       181\n",
      "weighted avg       0.93      0.86      0.89       181\n",
      "\n"
     ]
    }
   ],
   "source": [
    "from sklearn.model_selection import train_test_split, GridSearchCV, StratifiedKFold\n",
    "from sklearn.svm import SVC\n",
    "from sklearn.metrics import classification_report\n",
    "\n",
    "param_grid = {\n",
    "    'C': [0.1, 1, 10],\n",
    "    'kernel': ['linear'],\n",
    "}\n",
    "\n",
    "svm = SVC(class_weight='balanced')\n",
    "\n",
    "stratified_kfold = StratifiedKFold(n_splits=5, shuffle=True, random_state=42)\n",
    "\n",
    "# Perform grid search with cross-validation\n",
    "grid_search = GridSearchCV(svm, param_grid, cv=stratified_kfold, scoring='precision', n_jobs=-1)\n",
    "grid_search.fit(X_train_resampled, y_train_resampled)\n",
    "\n",
    "# Get the best SVM estimator\n",
    "best_svm = grid_search.best_estimator_\n",
    "best_params = grid_search.best_params_\n",
    "\n",
    "# Predict on the test set\n",
    "y_pred = best_svm.predict(X_test)\n",
    "\n",
    "# Print best hyperparameters and classification report\n",
    "print(\"Best Hyperparameters:\", best_params)\n",
    "print(\"\\nClassification Report:\\n\", classification_report(y_test, y_pred))\n"
   ]
  },
  {
   "cell_type": "markdown",
   "id": "d842db67",
   "metadata": {},
   "source": [
    "# NOW USING ONE CLASS SVM"
   ]
  },
  {
   "cell_type": "code",
   "execution_count": 138,
   "id": "f138bcb5",
   "metadata": {},
   "outputs": [
    {
     "name": "stdout",
     "output_type": "stream",
     "text": [
      "Best Hyperparameters: {'gamma': 0.01, 'kernel': 'poly', 'nu': 0.01}\n",
      "\n",
      "Classification Report:\n",
      "               precision    recall  f1-score   support\n",
      "\n",
      "          -1       0.00      0.00      0.00         0\n",
      "           0       0.00      0.00      0.00       166\n",
      "           1       0.09      1.00      0.16        15\n",
      "\n",
      "    accuracy                           0.08       181\n",
      "   macro avg       0.03      0.33      0.05       181\n",
      "weighted avg       0.01      0.08      0.01       181\n",
      "\n"
     ]
    }
   ],
   "source": [
    "from sklearn.datasets import make_classification\n",
    "from sklearn.model_selection import GridSearchCV, StratifiedKFold\n",
    "from sklearn.svm import OneClassSVM\n",
    "from sklearn.metrics import make_scorer, precision_score, recall_score, f1_score, roc_auc_score\n",
    "from sklearn.preprocessing import StandardScaler\n",
    "\n",
    "stratified_kfold = StratifiedKFold(n_splits=5, shuffle=True, random_state=42)\n",
    "param_grid = {\n",
    "    'kernel': ['rbf', 'poly'],\n",
    "    'gamma': [0.01, 0.1, 1.0],\n",
    "    'nu': [0.01, 0.05, 0.1],\n",
    "}\n",
    "OneSVM = OneClassSVM()\n",
    "\n",
    "grid_search = GridSearchCV(OneSVM, param_grid, cv=stratified_kfold, scoring='accuracy', n_jobs=-1)\n",
    "\n",
    "grid_search.fit(X_train, y_train)\n",
    "\n",
    "best_svm = grid_search.best_estimator_\n",
    "best_params = grid_search.best_params_\n",
    "\n",
    "y_pred = best_svm.predict(X_test)\n",
    "\n",
    "class_report = classification_report(y_test, y_pred)\n",
    "\n",
    "\n",
    "print(\"Best Hyperparameters:\", best_params)\n",
    "\n",
    "print(\"\\nClassification Report:\\n\", class_report)\n",
    "\n"
   ]
  },
  {
   "cell_type": "code",
   "execution_count": 144,
   "id": "b38d5914",
   "metadata": {},
   "outputs": [
    {
     "name": "stdout",
     "output_type": "stream",
     "text": [
      "Best Hyperparameters: {'kernel': 'linear', 'nu': 0.05}\n",
      "\n",
      "Classification Report:\n",
      "               precision    recall  f1-score   support\n",
      "\n",
      "          -1       0.00      0.00      0.00         0\n",
      "           0       0.00      0.00      0.00       821\n",
      "           1       0.10      1.00      0.18        83\n",
      "\n",
      "    accuracy                           0.09       904\n",
      "   macro avg       0.03      0.33      0.06       904\n",
      "weighted avg       0.01      0.09      0.02       904\n",
      "\n"
     ]
    }
   ],
   "source": [
    "from sklearn.svm import OneClassSVM\n",
    "from sklearn.model_selection import GridSearchCV, StratifiedKFold\n",
    "from sklearn.preprocessing import MinMaxScaler\n",
    "from sklearn.metrics import classification_report\n",
    "import pandas as pd\n",
    "import numpy as np\n",
    "\n",
    "scaler = MinMaxScaler()\n",
    "X_scaled = scaler.fit_transform(X)\n",
    "\n",
    "\n",
    "param_grid = {\n",
    "    'nu': [0.01, 0.05, 0.1, 0.2],\n",
    "    'kernel': ['linear', 'rbf', 'poly', 'sigmoid']\n",
    "}\n",
    "\n",
    "one_class_svm = OneClassSVM()\n",
    "\n",
    "\n",
    "stratified_kfold = StratifiedKFold(n_splits=5, shuffle=True, random_state=42)\n",
    "\n",
    "\n",
    "grid_search = GridSearchCV(one_class_svm, param_grid, cv=stratified_kfold, scoring='accuracy', n_jobs=-1)\n",
    "grid_search.fit(X_scaled, y)\n",
    "\n",
    "best_one_class_svm = grid_search.best_estimator_\n",
    "best_params = grid_search.best_params_\n",
    "\n",
    "y_pred = best_one_class_svm.predict(X_scaled)\n",
    "\n",
    "print(\"Best Hyperparameters:\", best_params)\n",
    "print(\"\\nClassification Report:\\n\", classification_report(y, y_pred))\n"
   ]
  },
  {
   "cell_type": "code",
   "execution_count": null,
   "id": "50a84ea2",
   "metadata": {},
   "outputs": [],
   "source": []
  }
 ],
 "metadata": {
  "celltoolbar": "Raw Cell Format",
  "kernelspec": {
   "display_name": "Python 3 (ipykernel)",
   "language": "python",
   "name": "python3"
  },
  "language_info": {
   "codemirror_mode": {
    "name": "ipython",
    "version": 3
   },
   "file_extension": ".py",
   "mimetype": "text/x-python",
   "name": "python",
   "nbconvert_exporter": "python",
   "pygments_lexer": "ipython3",
   "version": "3.9.16"
  }
 },
 "nbformat": 4,
 "nbformat_minor": 5
}
